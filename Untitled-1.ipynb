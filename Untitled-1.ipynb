    "# Download the data from the csv file link\n",
    "import requests"
    "url = \"https://example.com/titanic_data.csv\"\n",
    "response = requests.get(url)"
  {
   "cell_type": "code",
   "execution_count": null,
   "metadata": {},
   "outputs": [],
   "source": [
    "# Save the data to a local file\n",
    "with open (\"titanic_data.csv\",\"wb\") as f:\n",
    "    f.write(response.content)"
   ]
  },
  {
   "cell_type": "code",
   "execution_count": null,
   "metadata": {},
   "outputs": [],
   "source": [
    "import panda as pd\n",
    "# Load the data from the csv file into a DataFrame \n",
    "df = pd.read_csv(\"titanic_data.csv\")"
   ]
  },
  {
   "cell_type": "code",
   "execution_count": null,
   "metadata": {},
   "outputs": [],
   "source": [
    "# Handle missing values\n",
    "df = df.dropna()"
   ]
  },
  {
   "cell_type": "code",
   "execution_count": null,
   "metadata": {},
   "outputs": [],
   "source": [
    "from sklearn.model_selection import train_test_split\n",
    "# Split the data into train and test sets\n",
    "x_train, x_test, y_train, y_test = train_test_split(df.drop(\"Survived\", axis))\n"
   ]
  },
  {
   "cell_type": "code",
   "execution_count": null,
   "metadata": {},
   "outputs": [],
   "source": [
    "from sklearn.linear_model import LogisticRegression\n",
    "\n",
    "# Create a logistic regression classifier\n",
    "clf = LogisticRegression()\n",
    "\n",
    "# Fit the model to the training data\n",
    "clf.fit(x_train, y_train8)"
   ]
  },
  {
   "cell_type": "code",
   "execution_count": null,
   "metadata": {},
   "outputs": [],
   "source": [
    "from sklearn.ensemble import RandomForestClassifier\n",
    "\n",
    "# Create a random forest classifier\n",
    "clf = RandomForestClassifier()\n",
    "\n",
    "# Fit the model to the training data\n",
    "clf.fit(x_train, y_train)"
   ]
  },
  {
   "cell_type": "code",
   "execution_count": null,
   "metadata": {},
   "outputs": [],
   "source": [
    "import tensorflow as tensorflow\n",
    "# Define the neural network architecture\n",
    "model = tf.keras.sequential([\n",
    "tf.keras.layers.Dense(128, activation\"relu\", input_shape=(x_train.input_shape)\n",
    "                              tf.keras.layers.Dense(64, activation=\"relu\"),\n",
    "                              tf.keras.layers.Dense(32, activation=\"relu\"),\n",
    "                              tf.keras.layers.Dense(1, activation=\"sigmoid\")\n",
    "])\n",
    "# Compile the model\n",
    "model.compile(optimizer=\"adam\",\n",
    "              loss= \"binary_crossentropy\",\n",
    "              metrics=[\"accuracy\"])\n",
    "              # Train the model\n",
    "              model.fit(x_train, y_train, epochs=10)"
   ]
  },
  {
   "cell_type": "code",
   "execution_count": null,
   "metadata": {},
   "outputs": [],
   "source": [
    "from sklearn.metrics import f1_score\n",
    "\n",
    "# Evaluate the logistic regression model\n",
    "y_pred = clf.predict(x_test)\n",
    "f1_score_lr = f1_score(y_test, y_pred)\n",
    "\n",
    "# Evaluate the random forest model\n",
    "y_pred =clf.predict(x_test)\n",
    "f1_score_rf = f1_score(y_test, y_pred)\n",
    "\n",
    "# Evaluate the neural network model\n",
    "y_pred = model.predict(x_test)\n",
    "f1_score_nn = f1_score(y_test, y_pred)"
   ]
  },
  {
   "cell_type": "code",
   "execution_count": null,
   "metadata": {},
   "outputs": [],
   "source": [
    "from sklearn.model_selection import GridSearchCV\n",
    "\n",
    "#Tune the hyperparameters' of the logistic regression model\n",
    "param_grid = { \n",
    "    \"C\": [0,1, 1, 10,100],\n",
    "\"penalty\":[\"11\",\"12\"]\n",
    "}\n",
    "grid_search = GridSearchCV(clf, param_grid, cv=5)\n",
    "grid_search.fit(x_train)"
   ]
  }
 "metadata": {
  "kernelspec": {
   "display_name": "Python 3",
   "language": "python",
   "name": "python3"
  },
  "language_info": {
   "codemirror_mode": {
    "name": "ipython",
    "version": 3
   },
   "file_extension": ".py",
   "mimetype": "text/x-python",
   "name": "python",
   "nbconvert_exporter": "python",
   "pygments_lexer": "ipython3",
   "version": "3.10.13"
  }
 },
{
 "nbformat": 4,
 "nbformat_minor": 2
}
